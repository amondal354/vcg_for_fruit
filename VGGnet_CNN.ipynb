{
  "nbformat": 4,
  "nbformat_minor": 0,
  "metadata": {
    "colab": {
      "name": "VGGnet CNN.ipynb",
      "version": "0.3.2",
      "provenance": []
    },
    "kernelspec": {
      "display_name": "Python 3",
      "language": "python",
      "name": "python3"
    },
    "accelerator": "GPU"
  },
  "cells": [
    {
      "metadata": {
        "colab_type": "text",
        "id": "GbTpGgS2eZST"
      },
      "cell_type": "markdown",
      "source": [
        "# Deep Learning CNN Architecture (VGGnet)\n",
        "Convolutional Neural Network merupakan deep learning yang kini sering dipakai dalam berbagai aplikasi, salah satunya adalah image classification. Pada notebook ini, pembahasan akan berfokus pada Arsitektur VGGnet.\n"
      ]
    },
    {
      "metadata": {
        "colab_type": "text",
        "id": "8Czwd6vPgyj4"
      },
      "cell_type": "markdown",
      "source": [
        "Sebelum memulai, alangkah baiknya bila kita melakukan import package yang dibutuhkan dalam membuat arsitektur tersebut"
      ]
    },
    {
      "metadata": {
        "colab_type": "text",
        "id": "an6CdMGUg8kZ"
      },
      "cell_type": "markdown",
      "source": [
        "#### Bila menggunakan google collab, import code tersebut"
      ]
    },
    {
      "metadata": {
        "colab_type": "code",
        "id": "yIsXzwMjuzqh",
        "outputId": "cd8f5bad-033a-49a7-d7ff-670231b6acc1",
        "colab": {
          "base_uri": "https://localhost:8080/",
          "height": 194
        }
      },
      "cell_type": "code",
      "source": [
        "from google.colab import drive\n",
        "drive.mount('/content/gdrive')"
      ],
      "execution_count": 0,
      "outputs": [
        {
          "output_type": "stream",
          "text": [
            "Go to this URL in a browser: https://accounts.google.com/o/oauth2/auth?client_id=947318989803-6bn6qk8qdgf4n4g3pfee6491hc0brc4i.apps.googleusercontent.com&redirect_uri=urn%3Aietf%3Awg%3Aoauth%3A2.0%3Aoob&scope=email%20https%3A%2F%2Fwww.googleapis.com%2Fauth%2Fdocs.test%20https%3A%2F%2Fwww.googleapis.com%2Fauth%2Fdrive%20https%3A%2F%2Fwww.googleapis.com%2Fauth%2Fdrive.photos.readonly%20https%3A%2F%2Fwww.googleapis.com%2Fauth%2Fpeopleapi.readonly&response_type=code\n",
            "\n",
            "Enter your authorization code:\n",
            "··········\n",
            "Mounted at /content/gdrive\n"
          ],
          "name": "stdout"
        }
      ]
    },
    {
      "metadata": {
        "colab_type": "text",
        "id": "Q_TQZ6GwhFKa"
      },
      "cell_type": "markdown",
      "source": [
        "#### Package yang dibutuhkan\n",
        "Pada pengimplementasian, berikut ini adalah package yang dibutuhkan. Untuk membangun arsitektur CNN, package yang sering dipakai adalah Keras. "
      ]
    },
    {
      "metadata": {
        "colab_type": "code",
        "id": "-XAeQ2k0vB_L",
        "outputId": "6df214fa-561d-469a-d0b8-51f9f61ccb69",
        "colab": {
          "base_uri": "https://localhost:8080/",
          "height": 35
        }
      },
      "cell_type": "code",
      "source": [
        "import tensorflow as tf\n",
        "import numpy as np\n",
        "import matplotlib.pyplot as plt\n",
        "from keras.models import Sequential\n",
        "from keras.layers import Input, Activation, Dense, Conv2D, MaxPooling2D, ZeroPadding2D, Flatten\n",
        "from keras.optimizers import Adam\n",
        "from keras.layers.normalization import BatchNormalization\n",
        "from keras.utils.np_utils import to_categorical\n",
        "from keras.callbacks import TensorBoard\n",
        "from sklearn.model_selection import train_test_split"
      ],
      "execution_count": 0,
      "outputs": [
        {
          "output_type": "stream",
          "text": [
            "Using TensorFlow backend.\n"
          ],
          "name": "stderr"
        }
      ]
    },
    {
      "metadata": {
        "colab_type": "text",
        "id": "YxwOh1jyhbAQ"
      },
      "cell_type": "markdown",
      "source": [
        "### Deskripsi Dataset\n",
        "Berikut ini adalah dataset yang digunakan. Sama seperti assingment 3 kemarin, dataset yang digunakan adalah Fruit Dataset. Dataset tersebut terdiri dari 7 kelas, yaitu apple, banana, lemon, lime, orange, pear, peach."
      ]
    },
    {
      "metadata": {
        "colab_type": "code",
        "id": "ez9Pkr9JvFyz",
        "colab": {}
      },
      "cell_type": "code",
      "source": [
        "X_path = 'gdrive/My Drive/Sisrek/Assignment 4/Datasets/X.npy'\n",
        "X_pathgambarasli = 'gdrive/My Drive/Sisrek/Assignment 4/Datasets/X_gambar.npy'\n",
        "y_path = 'gdrive/My Drive/Sisrek/Assignment 4/Datasets/y.npy'\n",
        "\n",
        "X = np.load(X_path)\n",
        "X_asli = np.load(X_pathgambarasli)\n",
        "y = np.load(y_path)\n",
        "\n",
        "X_train, X_test, y_train, y_test = train_test_split(X, y, test_size=0.33,shuffle=False)"
      ],
      "execution_count": 0,
      "outputs": []
    },
    {
      "metadata": {
        "colab_type": "text",
        "id": "FVPyckkJNyII"
      },
      "cell_type": "markdown",
      "source": [
        "Pembagian dataset terdiri dari 67% data training dan 33% data testing. Berikut ini adalah jumlah dari masing-masing data"
      ]
    },
    {
      "metadata": {
        "colab_type": "code",
        "id": "Hkw4wJSYN-F9",
        "outputId": "1bb29eb4-85d1-4570-82bd-913e19e02005",
        "colab": {
          "base_uri": "https://localhost:8080/",
          "height": 53
        }
      },
      "cell_type": "code",
      "source": [
        "print(\"Jumlah Data Training : \",np.shape(X_train)[0])\n",
        "print(\"Jumlah Data Testing : \",np.shape(X_test)[0])"
      ],
      "execution_count": 0,
      "outputs": [
        {
          "output_type": "stream",
          "text": [
            "Jumlah Data Training :  14262\n",
            "Jumlah Data Testing :  7025\n"
          ],
          "name": "stdout"
        }
      ]
    },
    {
      "metadata": {
        "id": "0XkwZkPMqMGE",
        "colab_type": "text"
      },
      "cell_type": "markdown",
      "source": [
        "### Deskripsi Arsitektur\n",
        "Arsitektur deep learning yang digunakan adalah VGGNet. Rujukan dari sistem yang dibangun berasal dari paper *Very Deep Convolutional Networks for Large-Scale Image Recognition* yang ditulis oleh Karen Simonyan dan Andrew Zisserman. Berikut ini adalah configurasi arsitektur yang dijelaskan pada paper tersebut\n",
        "\n",
        "<img src=\"tabel.png\" width=400px>\n",
        "\n",
        "Pada assignment 4 ini, penulis memilih network bagian A, yaitu terdapat 11 layer yang terdiri dari 8 layer konvolusi dan 3 layer fully connected."
      ]
    },
    {
      "metadata": {
        "colab_type": "text",
        "id": "kw7VJ2G-i4OK"
      },
      "cell_type": "markdown",
      "source": [
        "### Deskripsi Sistem\n",
        "\n",
        "<img src=\"Block Diagram Assignment 4.png\" width=400px>\n",
        "\n",
        "Menurut paper tersebut, untuk menginputkan gambar membutuhkan gambar sebesar 224x224x3 (RGB), namun pada kasus ini akan dicoba input gambar sebesar 224x224x1 (Grayscale). Deep learning ini sendiri memiliki 2 tahap, yaitu Feature Learning dengan Classification. Feature learning merupakan tahap dimana sistem akan melakukan pembelajaran pada fitur, bila dengan menggunakan machine learning biasa manusia yang menentukan fitur yang ingin dipelajari, maka bila menggunakan deep learning sistem akan otomatis mempelajari fitur yang akan diekstraksi. \n",
        "\n",
        "Feature learning memiliki 2 jenis layer, yaitu Convolution Layer dan Pooling Layer. Fungsi aktivasi yang digunakan adalah RELU. Convolution Layer merupakan layer yang digunakan untuk memproses fitur. Sedangkan Pooling Layer digunakan untuk mereduksi dimensi dari hasil konvolusi yang tadi sehingga hemat waktu proses komputasi. Pada sistem ini, kernel konvolusi yang digunakan berukuran 3x3, Jumlah filter yang digunakan adalah 64,128,256, dan 512. Pada block diagram tersebut, hal tersebut direpresentasikan dengan conv(size filter)-(jumlah filter). Untuk pooling layernya sendiri adalah sebesar 2x2.\n",
        "\n",
        "Pada Classification, layer yang digunakan adalah Fully Connected Layer. Sebelum masuk pada layer tersebut, hasil konvolusi tersebut harus di flatten agar menjadi vector 1 dimensi. Pada sistem tersebut, dimensi output yang dihasilkan adalah 4096 dan 1000. Untuk fungsi aktivasinya sendiri menggunakan RELU dan untuk output layernya sendiri menggunakan Softmax. "
      ]
    },
    {
      "metadata": {
        "id": "yr67qo5nqni4",
        "colab_type": "text"
      },
      "cell_type": "markdown",
      "source": [
        "### Pembangunan Model\n",
        "Berikut ini merupakan model yang dibangun, diantaranya adalah sebagai berikut"
      ]
    },
    {
      "metadata": {
        "id": "x2dFKVRzq1V2",
        "colab_type": "text"
      },
      "cell_type": "markdown",
      "source": [
        "#### Model VGGnet"
      ]
    },
    {
      "metadata": {
        "colab_type": "code",
        "id": "W6qNWqm0vjqd",
        "colab": {}
      },
      "cell_type": "code",
      "source": [
        "model = Sequential()\n",
        "\n",
        "model.add(Conv2D(64,3,activation='relu',input_shape=(224,224,1)))\n",
        "model.add(MaxPooling2D(2,2))\n",
        "model.add(BatchNormalization())\n",
        "\n",
        "model.add(Conv2D(128,3,activation='relu'))\n",
        "model.add(MaxPooling2D(2,2))\n",
        "model.add(BatchNormalization())\n",
        "\n",
        "model.add(Conv2D(256,3,activation='relu'))\n",
        "model.add(Conv2D(256,3,activation='relu'))\n",
        "model.add(MaxPooling2D(2,2))\n",
        "model.add(BatchNormalization())\n",
        "\n",
        "model.add(Conv2D(512,3,activation='relu'))\n",
        "model.add(Conv2D(512,3,activation='relu'))\n",
        "model.add(MaxPooling2D(2,2))\n",
        "model.add(BatchNormalization())\n",
        "\n",
        "model.add(Conv2D(512,3,activation='relu'))\n",
        "model.add(Conv2D(512,3,activation='relu'))\n",
        "model.add(MaxPooling2D(2,2))\n",
        "model.add(BatchNormalization())\n",
        "\n",
        "model.add(Flatten())\n",
        "model.add(Dense(4096,activation='relu'))\n",
        "model.add(Dense(4096,activation='relu'))\n",
        "model.add(Dense(1000,activation='relu'))\n",
        "model.add(Dense(7,activation='softmax',name='predictions'))"
      ],
      "execution_count": 0,
      "outputs": []
    },
    {
      "metadata": {
        "id": "YTaEsHLAq5sd",
        "colab_type": "text"
      },
      "cell_type": "markdown",
      "source": [
        "#### Perhitungan Loss\n",
        "Perhitungan Loss yang digunakan adalah categorical_crossentropy, sedangkan optimizer yang digunakan adalah optimizer Adam."
      ]
    },
    {
      "metadata": {
        "colab_type": "code",
        "id": "PgpV4DLCv1-C",
        "colab": {}
      },
      "cell_type": "code",
      "source": [
        "model.compile(loss='categorical_crossentropy',optimizer='adam',metrics=['accuracy'])"
      ],
      "execution_count": 0,
      "outputs": []
    },
    {
      "metadata": {
        "id": "6CwGOJG_q9nE",
        "colab_type": "text"
      },
      "cell_type": "markdown",
      "source": [
        "#### Proses Latih"
      ]
    },
    {
      "metadata": {
        "colab_type": "code",
        "id": "9lWDky0Pv3zE",
        "outputId": "26344335-db0b-452c-ce0a-c1678da3b260",
        "colab": {
          "base_uri": "https://localhost:8080/",
          "height": 1853
        }
      },
      "cell_type": "code",
      "source": [
        "model.fit(X_train,y_train,batch_size=128,epochs=50,validation_split=0.33)"
      ],
      "execution_count": 0,
      "outputs": [
        {
          "output_type": "stream",
          "text": [
            "Train on 9555 samples, validate on 4707 samples\n",
            "Epoch 1/50\n",
            "9555/9555 [==============================] - 161s 17ms/step - loss: 2.5833 - acc: 0.4045 - val_loss: 3.7768 - val_acc: 0.4636\n",
            "Epoch 2/50\n",
            "9555/9555 [==============================] - 131s 14ms/step - loss: 1.0715 - acc: 0.6599 - val_loss: 7.4559 - val_acc: 0.3792\n",
            "Epoch 3/50\n",
            "9555/9555 [==============================] - 131s 14ms/step - loss: 0.6089 - acc: 0.8022 - val_loss: 4.4928 - val_acc: 0.4563\n",
            "Epoch 4/50\n",
            "9555/9555 [==============================] - 131s 14ms/step - loss: 0.4437 - acc: 0.8698 - val_loss: 13.5708 - val_acc: 0.1508\n",
            "Epoch 5/50\n",
            "9555/9555 [==============================] - 131s 14ms/step - loss: 0.3511 - acc: 0.8994 - val_loss: 1.7525 - val_acc: 0.7009\n",
            "Epoch 6/50\n",
            "9555/9555 [==============================] - 131s 14ms/step - loss: 0.1706 - acc: 0.9475 - val_loss: 0.8266 - val_acc: 0.7621\n",
            "Epoch 7/50\n",
            "9555/9555 [==============================] - 131s 14ms/step - loss: 0.1167 - acc: 0.9602 - val_loss: 0.9424 - val_acc: 0.7697\n",
            "Epoch 8/50\n",
            "9555/9555 [==============================] - 131s 14ms/step - loss: 0.0838 - acc: 0.9727 - val_loss: 2.6430 - val_acc: 0.5834\n",
            "Epoch 9/50\n",
            "9555/9555 [==============================] - 131s 14ms/step - loss: 0.1699 - acc: 0.9531 - val_loss: 10.2145 - val_acc: 0.3149\n",
            "Epoch 10/50\n",
            "9555/9555 [==============================] - 131s 14ms/step - loss: 0.2064 - acc: 0.9553 - val_loss: 11.8639 - val_acc: 0.2458\n",
            "Epoch 11/50\n",
            "9555/9555 [==============================] - 131s 14ms/step - loss: 0.0840 - acc: 0.9739 - val_loss: 5.3662 - val_acc: 0.4604\n",
            "Epoch 12/50\n",
            "9555/9555 [==============================] - 131s 14ms/step - loss: 0.0636 - acc: 0.9803 - val_loss: 1.0339 - val_acc: 0.6975\n",
            "Epoch 13/50\n",
            "9555/9555 [==============================] - 131s 14ms/step - loss: 0.0320 - acc: 0.9886 - val_loss: 1.2846 - val_acc: 0.7060\n",
            "Epoch 14/50\n",
            "9555/9555 [==============================] - 131s 14ms/step - loss: 0.0322 - acc: 0.9910 - val_loss: 1.0990 - val_acc: 0.8052\n",
            "Epoch 15/50\n",
            "9555/9555 [==============================] - 131s 14ms/step - loss: 0.0540 - acc: 0.9843 - val_loss: 0.0919 - val_acc: 0.9698\n",
            "Epoch 16/50\n",
            "9555/9555 [==============================] - 131s 14ms/step - loss: 0.0565 - acc: 0.9869 - val_loss: 4.1836 - val_acc: 0.5502\n",
            "Epoch 17/50\n",
            "9555/9555 [==============================] - 131s 14ms/step - loss: 0.0388 - acc: 0.9887 - val_loss: 0.0551 - val_acc: 0.9802\n",
            "Epoch 18/50\n",
            "9555/9555 [==============================] - 131s 14ms/step - loss: 0.0292 - acc: 0.9917 - val_loss: 0.3342 - val_acc: 0.9235\n",
            "Epoch 19/50\n",
            "9555/9555 [==============================] - 131s 14ms/step - loss: 0.0469 - acc: 0.9845 - val_loss: 0.8288 - val_acc: 0.8252\n",
            "Epoch 20/50\n",
            "9555/9555 [==============================] - 131s 14ms/step - loss: 0.0206 - acc: 0.9928 - val_loss: 0.3422 - val_acc: 0.8999\n",
            "Epoch 21/50\n",
            "9555/9555 [==============================] - 131s 14ms/step - loss: 0.0252 - acc: 0.9913 - val_loss: 0.2634 - val_acc: 0.9329\n",
            "Epoch 22/50\n",
            "9555/9555 [==============================] - 131s 14ms/step - loss: 0.0258 - acc: 0.9917 - val_loss: 0.1009 - val_acc: 0.9649\n",
            "Epoch 23/50\n",
            "9555/9555 [==============================] - 131s 14ms/step - loss: 0.0513 - acc: 0.9904 - val_loss: 4.2382 - val_acc: 0.5929\n",
            "Epoch 24/50\n",
            "9555/9555 [==============================] - 131s 14ms/step - loss: 0.0492 - acc: 0.9889 - val_loss: 0.9126 - val_acc: 0.8334\n",
            "Epoch 25/50\n",
            "9555/9555 [==============================] - 131s 14ms/step - loss: 0.0457 - acc: 0.9908 - val_loss: 1.1752 - val_acc: 0.8432\n",
            "Epoch 26/50\n",
            "9555/9555 [==============================] - 131s 14ms/step - loss: 0.0424 - acc: 0.9874 - val_loss: 1.1131 - val_acc: 0.8169\n",
            "Epoch 27/50\n",
            "9555/9555 [==============================] - 131s 14ms/step - loss: 0.0125 - acc: 0.9963 - val_loss: 0.1724 - val_acc: 0.9588\n",
            "Epoch 28/50\n",
            "9555/9555 [==============================] - 131s 14ms/step - loss: 0.0159 - acc: 0.9962 - val_loss: 0.3580 - val_acc: 0.8861\n",
            "Epoch 29/50\n",
            "9555/9555 [==============================] - 131s 14ms/step - loss: 0.0232 - acc: 0.9929 - val_loss: 0.0510 - val_acc: 0.9868\n",
            "Epoch 30/50\n",
            "9555/9555 [==============================] - 131s 14ms/step - loss: 0.0256 - acc: 0.9926 - val_loss: 0.0712 - val_acc: 0.9783\n",
            "Epoch 31/50\n",
            "9555/9555 [==============================] - 131s 14ms/step - loss: 0.0135 - acc: 0.9959 - val_loss: 0.0254 - val_acc: 0.9930\n",
            "Epoch 32/50\n",
            "9555/9555 [==============================] - 131s 14ms/step - loss: 0.0023 - acc: 0.9995 - val_loss: 0.1198 - val_acc: 0.9745\n",
            "Epoch 33/50\n",
            "9555/9555 [==============================] - 131s 14ms/step - loss: 0.0104 - acc: 0.9974 - val_loss: 0.6575 - val_acc: 0.8817\n",
            "Epoch 34/50\n",
            "9555/9555 [==============================] - 131s 14ms/step - loss: 0.0028 - acc: 0.9991 - val_loss: 0.0087 - val_acc: 0.9979\n",
            "Epoch 35/50\n",
            "9555/9555 [==============================] - 131s 14ms/step - loss: 0.0055 - acc: 0.9982 - val_loss: 0.0120 - val_acc: 0.9953\n",
            "Epoch 36/50\n",
            "9555/9555 [==============================] - 131s 14ms/step - loss: 0.0042 - acc: 0.9984 - val_loss: 0.0038 - val_acc: 0.9994\n",
            "Epoch 37/50\n",
            "9555/9555 [==============================] - 131s 14ms/step - loss: 5.8876e-04 - acc: 0.9998 - val_loss: 0.0039 - val_acc: 0.9994\n",
            "Epoch 38/50\n",
            "9555/9555 [==============================] - 131s 14ms/step - loss: 0.0033 - acc: 0.9993 - val_loss: 0.5030 - val_acc: 0.9108\n",
            "Epoch 39/50\n",
            "9555/9555 [==============================] - 131s 14ms/step - loss: 0.0349 - acc: 0.9911 - val_loss: 0.8125 - val_acc: 0.8421\n",
            "Epoch 40/50\n",
            "9555/9555 [==============================] - 131s 14ms/step - loss: 0.0253 - acc: 0.9937 - val_loss: 0.1234 - val_acc: 0.9579\n",
            "Epoch 41/50\n",
            "9555/9555 [==============================] - 131s 14ms/step - loss: 0.1799 - acc: 0.9655 - val_loss: 11.0427 - val_acc: 0.3144\n",
            "Epoch 42/50\n",
            "9555/9555 [==============================] - 131s 14ms/step - loss: 0.1576 - acc: 0.9647 - val_loss: 12.0937 - val_acc: 0.2260\n",
            "Epoch 43/50\n",
            "9555/9555 [==============================] - 131s 14ms/step - loss: 0.2245 - acc: 0.9579 - val_loss: 10.6139 - val_acc: 0.2925\n",
            "Epoch 44/50\n",
            "9555/9555 [==============================] - 131s 14ms/step - loss: 0.1262 - acc: 0.9776 - val_loss: 5.6924 - val_acc: 0.5292\n",
            "Epoch 45/50\n",
            "9555/9555 [==============================] - 131s 14ms/step - loss: 0.0432 - acc: 0.9890 - val_loss: 1.1807 - val_acc: 0.8523\n",
            "Epoch 46/50\n",
            "9555/9555 [==============================] - 131s 14ms/step - loss: 0.0239 - acc: 0.9955 - val_loss: 0.0473 - val_acc: 0.9934\n",
            "Epoch 47/50\n",
            "9555/9555 [==============================] - 131s 14ms/step - loss: 0.3796 - acc: 0.9643 - val_loss: 6.1334 - val_acc: 0.4784\n",
            "Epoch 48/50\n",
            "9555/9555 [==============================] - 131s 14ms/step - loss: 0.0562 - acc: 0.9916 - val_loss: 0.4675 - val_acc: 0.9267\n",
            "Epoch 49/50\n",
            "9555/9555 [==============================] - 131s 14ms/step - loss: 0.0661 - acc: 0.9922 - val_loss: 1.1445 - val_acc: 0.8184\n",
            "Epoch 50/50\n",
            "9555/9555 [==============================] - 131s 14ms/step - loss: 0.1031 - acc: 0.9808 - val_loss: 0.1394 - val_acc: 0.9654\n"
          ],
          "name": "stdout"
        },
        {
          "output_type": "execute_result",
          "data": {
            "text/plain": [
              "<keras.callbacks.History at 0x7f914b6df780>"
            ]
          },
          "metadata": {
            "tags": []
          },
          "execution_count": 8
        }
      ]
    },
    {
      "metadata": {
        "id": "y9mOR8cnrC_0",
        "colab_type": "text"
      },
      "cell_type": "markdown",
      "source": [
        "#### Evaluasi Model"
      ]
    },
    {
      "metadata": {
        "colab_type": "code",
        "id": "frHKJAdiv5zd",
        "outputId": "5c929a7f-5529-457d-f56c-a0bf63da9ac0",
        "colab": {
          "base_uri": "https://localhost:8080/",
          "height": 53
        }
      },
      "cell_type": "code",
      "source": [
        "# Evaluating the model on the test data    \n",
        "loss, accuracy = model.evaluate(X_test, y_test, verbose=0)\n",
        "print('Test Loss:', loss)\n",
        "print('Test Accuracy:', accuracy)"
      ],
      "execution_count": 0,
      "outputs": [
        {
          "output_type": "stream",
          "text": [
            "Test Loss: 0.14814414688604768\n",
            "Test Accuracy: 0.9648398576512456\n"
          ],
          "name": "stdout"
        }
      ]
    },
    {
      "metadata": {
        "id": "k22cCdqPrId6",
        "colab_type": "text"
      },
      "cell_type": "markdown",
      "source": [
        "### Contoh Hasil Pengenalan"
      ]
    },
    {
      "metadata": {
        "id": "qpl81xVXzIdS",
        "colab_type": "code",
        "colab": {}
      },
      "cell_type": "code",
      "source": [
        "#mengambil gambar asli\n",
        "X_TraingbrAsli, X_TestgbrAsli, y_trainasli, y_testasli = train_test_split(X_asli, y, test_size=0.33,shuffle=False)"
      ],
      "execution_count": 0,
      "outputs": []
    },
    {
      "metadata": {
        "colab_type": "code",
        "id": "Q4m0YKq4JcCX",
        "outputId": "09adb641-fb31-4729-ad61-c8a0bf60b079",
        "colab": {
          "base_uri": "https://localhost:8080/",
          "height": 104
        }
      },
      "cell_type": "code",
      "source": [
        "#menampilkan gambar asli\n",
        "slice = 15\n",
        "predicted = model.predict(X_test[:slice]).argmax(-1)\n",
        "plt.figure(figsize=(15,8))\n",
        "for i in range(slice):\n",
        "  if predicted[i]==0:\n",
        "    prd=\"apple\"\n",
        "  elif predicted[i]==1:\n",
        "    prd=\"banana\"\n",
        "  elif predicted[i]==2:\n",
        "    prd=\"lemon\"\n",
        "  elif predicted[i]==3:\n",
        "    prd=\"lime\"\n",
        "  elif predicted[i]==4:\n",
        "    prd=\"orange\"\n",
        "  elif predicted[i]==5:\n",
        "    prd=\"peach\"\n",
        "  elif predicted[i]==6:\n",
        "    prd=\"pear\"\n",
        "  plt.subplot(1, slice, i+1)\n",
        "  plt.imshow(X_TestgbrAsli[i], interpolation='nearest')\n",
        "  plt.text(0, 0, prd, color='black', \n",
        "           bbox=dict(facecolor='white', alpha=1))\n",
        "  plt.axis('off')"
      ],
      "execution_count": 0,
      "outputs": [
        {
          "output_type": "display_data",
          "data": {
            "image/png": "[encoded data removed]",
            "text/plain": [
              "<matplotlib.figure.Figure at 0x7f91483c5be0>"
            ]
          },
          "metadata": {
            "tags": []
          }
        }
      ]
    },
    {
      "metadata": {
        "id": "R182ASw3rOQY",
        "colab_type": "text"
      },
      "cell_type": "markdown",
      "source": [
        "### Analisis dengan Assignment 3\n",
        "Pada assignment 3, akurasi 99% dihasilkan oleh deksriptor bentuk. Dan pada model VGGnet tersebut, hasil yang dihasilkan adalah 99% juga dengan loss yang kecil, yaitu 0.0044. Hal tersebut menunjukkan bahwa deskriptor bentuk dan model VGGnet sama-sama menghasilkan hasil yang bagus. Namun, mungkin data yang diperlukan harus lebih beragam agar tidak terjadi overfitting."
      ]
    }
  ]
}