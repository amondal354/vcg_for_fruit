{
 "cells": [
  {
   "cell_type": "markdown",
   "metadata": {
    "colab_type": "text",
    "id": "GbTpGgS2eZST"
   },
   "source": [
    "# Deep Learning CNN Architecture (VGGnet)\n",
    "\n",
    "Convolutional Neural Network merupakan deep learning yang kini sering dipakai dalam berbagai aplikasi, salah satunya adalah image classification. Pada notebook ini, pembahasan akan berfokus pada Arsitektur VGGnet."
   ]
  },
  {
   "cell_type": "markdown",
   "metadata": {
    "colab_type": "text",
    "id": "8Czwd6vPgyj4"
   },
   "source": [
    "Sebelum memulai, alangkah baiknya bila kita melakukan import package yang dibutuhkan dalam membuat arsitektur tersebut"
   ]
  },
  {
   "cell_type": "markdown",
   "metadata": {
    "colab_type": "text",
    "id": "an6CdMGUg8kZ"
   },
   "source": [
    "#### Bila menggunakan google collab, import code tersebut"
   ]
  },
  {
   "cell_type": "code",
   "execution_count": 0,
   "metadata": {
    "colab": {
     "base_uri": "https://localhost:8080/",
     "height": 36
    },
    "colab_type": "code",
    "id": "yIsXzwMjuzqh",
    "outputId": "f2e506b4-3464-4a52-af2b-14dde4c2538a"
   },
   "outputs": [
    {
     "name": "stdout",
     "output_type": "stream",
     "text": [
      "Drive already mounted at /content/gdrive; to attempt to forcibly remount, call drive.mount(\"/content/gdrive\", force_remount=True).\n"
     ]
    }
   ],
   "source": [
    "from google.colab import drive\n",
    "drive.mount('/content/gdrive')"
   ]
  },
  {
   "cell_type": "markdown",
   "metadata": {
    "colab_type": "text",
    "id": "Q_TQZ6GwhFKa"
   },
   "source": [
    "#### Package yang dibutuhkan\n",
    "Pada pengimplementasian, berikut ini adalah package yang dibutuhkan. Untuk membangun arsitektur CNN, package yang sering dipakai adalah Keras. "
   ]
  },
  {
   "cell_type": "code",
   "execution_count": 1,
   "metadata": {
    "colab": {},
    "colab_type": "code",
    "id": "-XAeQ2k0vB_L"
   },
   "outputs": [
    {
     "ename": "SyntaxError",
     "evalue": "invalid syntax (<ipython-input-1-f12c32996396>, line 1)",
     "output_type": "error",
     "traceback": [
      "\u001b[1;36m  File \u001b[1;32m\"<ipython-input-1-f12c32996396>\"\u001b[1;36m, line \u001b[1;32m1\u001b[0m\n\u001b[1;33m    import tensorflow-gpu as tf\u001b[0m\n\u001b[1;37m                     ^\u001b[0m\n\u001b[1;31mSyntaxError\u001b[0m\u001b[1;31m:\u001b[0m invalid syntax\n"
     ]
    }
   ],
   "source": [
    "import tensorflow as tf\n",
    "import numpy as np\n",
    "import matplotlib.pyplot as plt\n",
    "from keras.models import Sequential\n",
    "from keras.layers import Input, Activation, Dense, Conv2D, MaxPooling2D, ZeroPadding2D, Flatten\n",
    "from keras.optimizers import Adam\n",
    "from keras.layers.normalization import BatchNormalization\n",
    "from keras.utils.np_utils import to_categorical\n",
    "from keras.callbacks import TensorBoard\n",
    "from sklearn.model_selection import train_test_split"
   ]
  },
  {
   "cell_type": "markdown",
   "metadata": {
    "colab_type": "text",
    "id": "YxwOh1jyhbAQ"
   },
   "source": [
    "### Deskripsi Dataset\n",
    "Berikut ini adalah dataset yang digunakan. Sama seperti assingment 3 kemarin, dataset yang digunakan adalah Fruit Dataset. Dataset tersebut terdiri dari 7 kelas, yaitu apple, banana, lemon, lime, orange, pear, peach."
   ]
  },
  {
   "cell_type": "code",
   "execution_count": 0,
   "metadata": {
    "colab": {},
    "colab_type": "code",
    "id": "ez9Pkr9JvFyz"
   },
   "outputs": [],
   "source": [
    "X_path = 'X.npy'\n",
    "y_path = 'y.npy'\n",
    "\n",
    "X = np.load(X_path)\n",
    "y = np.load(y_path)\n",
    "\n",
    "X_train, X_test, y_train, y_test = train_test_split(X, y, test_size=0.33)"
   ]
  },
  {
   "cell_type": "markdown",
   "metadata": {
    "colab_type": "text",
    "id": "FVPyckkJNyII"
   },
   "source": [
    "Pembagian dataset terdiri dari 67% data training dan 33% data testing. Berikut ini adalah jumlah dari masing-masing data"
   ]
  },
  {
   "cell_type": "code",
   "execution_count": 0,
   "metadata": {
    "colab": {
     "base_uri": "https://localhost:8080/",
     "height": 56
    },
    "colab_type": "code",
    "id": "Hkw4wJSYN-F9",
    "outputId": "a6957b07-f28a-4d10-c3b2-4697415b2367"
   },
   "outputs": [
    {
     "name": "stdout",
     "output_type": "stream",
     "text": [
      "Jumlah Data Training :  14262\n",
      "Jumlah Data Testing :  7025\n"
     ]
    }
   ],
   "source": [
    "print(\"Jumlah Data Training : \",np.shape(X_train)[0])\n",
    "print(\"Jumlah Data Testing : \",np.shape(X_test)[0])"
   ]
  },
  {
   "cell_type": "markdown",
   "metadata": {},
   "source": [
    "### Deskripsi Arsitektur\n",
    "Arsitektur deep learning yang digunakan adalah VGGNet. Rujukan dari sistem yang dibangun berasal dari paper *Very Deep Convolutional Networks for Large-Scale Image Recognition* yang ditulis oleh Karen Simonyan dan Andrew Zisserman. Berikut ini adalah configurasi arsitektur yang dijelaskan pada paper tersebut\n",
    "\n",
    "<img src=\"tabel.png\" width=400px>\n",
    "\n",
    "Pada assignment 3 ini, penulis memilih network bagian A, yaitu terdapat 11 layer yang terdiri dari 8 layer konvolusi dan 3 layer fully connected."
   ]
  },
  {
   "cell_type": "markdown",
   "metadata": {
    "colab_type": "text",
    "id": "kw7VJ2G-i4OK"
   },
   "source": [
    "### Deskripsi Sistem\n",
    "\n",
    "<img src=\"Block Diagram Assignment 4.png\" width=400px>\n",
    "\n",
    "Menurut paper tersebut, untuk menginputkan gambar membutuhkan gambar sebesar 224x224x3 (RGB), namun pada kasus ini akan dicoba input gambar sebesar 224x224x1 (Grayscale). Deep learning ini sendiri memiliki 2 tahap, yaitu Feature Learning dengan Classification. Feature learning merupakan tahap dimana sistem akan melakukan pembelajaran pada fitur, bila dengan menggunakan machine learning biasa manusia yang menentukan fitur yang ingin dipelajari, maka bila menggunakan deep learning sistem akan otomatis mempelajari fitur yang akan diekstraksi. \n",
    "\n",
    "Feature learning memiliki 2 jenis layer, yaitu Convolution Layer dan Pooling Layer. Fungsi aktivasi yang digunakan adalah RELU. Convolution Layer merupakan layer yang digunakan untuk memproses fitur. Sedangkan Pooling Layer digunakan untuk mereduksi dimensi dari hasil konvolusi yang tadi sehingga hemat waktu proses komputasi. Pada sistem ini, kernel konvolusi yang digunakan berukuran 3x3, Jumlah filter yang digunakan adalah 64,128,256, dan 512. Pada block diagram tersebut, hal tersebut direpresentasikan dengan conv(size filter)-(jumlah filter). Untuk pooling layernya sendiri adalah sebesar 2x2.\n",
    "\n",
    "Pada Classification, layer yang digunakan adalah Fully Connected Layer. Sebelum masuk pada layer tersebut, hasil konvolusi tersebut harus di flatten agar menjadi vector 1 dimensi. Pada sistem tersebut, dimensi output yang dihasilkan adalah 4096 dan 1000. Untuk fungsi aktivasinya sendiri menggunakan RELU dan untuk output layernya sendiri menggunakan Softmax."
   ]
  },
  {
   "cell_type": "markdown",
   "metadata": {},
   "source": [
    "### Pembangunan Model\n",
    "Berikut ini merupakan model yang dibangun, diantaranya adalah sebagai berikut"
   ]
  },
  {
   "cell_type": "markdown",
   "metadata": {},
   "source": [
    "#### Model VGGnet"
   ]
  },
  {
   "cell_type": "code",
   "execution_count": 0,
   "metadata": {
    "colab": {},
    "colab_type": "code",
    "id": "W6qNWqm0vjqd"
   },
   "outputs": [],
   "source": [
    "model = Sequential()\n",
    "\n",
    "model.add(Conv2D(64,3,activation='relu',input_shape=(224,224,1)))\n",
    "model.add(MaxPooling2D(2,2))\n",
    "model.add(BatchNormalization())\n",
    "\n",
    "model.add(Conv2D(128,3,activation='relu'))\n",
    "model.add(MaxPooling2D(2,2))\n",
    "model.add(BatchNormalization())\n",
    "\n",
    "model.add(Conv2D(256,3,activation='relu'))\n",
    "model.add(Conv2D(256,3,activation='relu'))\n",
    "model.add(MaxPooling2D(2,2))\n",
    "model.add(BatchNormalization())\n",
    "\n",
    "model.add(Conv2D(512,3,activation='relu'))\n",
    "model.add(Conv2D(512,3,activation='relu'))\n",
    "model.add(MaxPooling2D(2,2))\n",
    "model.add(BatchNormalization())\n",
    "\n",
    "model.add(Conv2D(512,3,activation='relu'))\n",
    "model.add(Conv2D(512,3,activation='relu'))\n",
    "model.add(MaxPooling2D(2,2))\n",
    "model.add(BatchNormalization())\n",
    "\n",
    "model.add(Flatten())\n",
    "model.add(Dense(4096,activation='relu'))\n",
    "model.add(Dense(4096,activation='relu'))\n",
    "model.add(Dense(1000,activation='relu'))\n",
    "model.add(Dense(7,activation='softmax',name='predictions'))"
   ]
  },
  {
   "cell_type": "markdown",
   "metadata": {},
   "source": [
    "#### Perhitungan Loss\n",
    "Perhitungan Loss yang digunakan adalah categorical_crossentropy, sedangkan optimizer yang digunakan adalah optimizer Adam."
   ]
  },
  {
   "cell_type": "code",
   "execution_count": 0,
   "metadata": {
    "colab": {},
    "colab_type": "code",
    "id": "PgpV4DLCv1-C"
   },
   "outputs": [],
   "source": [
    "model.compile(loss='categorical_crossentropy',optimizer='adam',metrics=['accuracy'])"
   ]
  },
  {
   "cell_type": "markdown",
   "metadata": {},
   "source": [
    "#### Proses Latih"
   ]
  },
  {
   "cell_type": "code",
   "execution_count": 0,
   "metadata": {
    "colab": {
     "base_uri": "https://localhost:8080/",
     "height": 1992
    },
    "colab_type": "code",
    "id": "9lWDky0Pv3zE",
    "outputId": "eba0c559-950b-44dd-99f0-a425221097fb"
   },
   "outputs": [
    {
     "name": "stdout",
     "output_type": "stream",
     "text": [
      "Train on 9555 samples, validate on 4707 samples\n",
      "Epoch 1/50\n",
      "9555/9555 [==============================] - 128s 13ms/step - loss: 1.1627 - acc: 0.6723 - val_loss: 6.7796 - val_acc: 0.3775\n",
      "Epoch 2/50\n",
      "9555/9555 [==============================] - 125s 13ms/step - loss: 0.3633 - acc: 0.8761 - val_loss: 1.6348 - val_acc: 0.6524\n",
      "Epoch 3/50\n",
      "9555/9555 [==============================] - 126s 13ms/step - loss: 0.2990 - acc: 0.9134 - val_loss: 7.4925 - val_acc: 0.3915\n",
      "Epoch 4/50\n",
      "9555/9555 [==============================] - 126s 13ms/step - loss: 0.1777 - acc: 0.9454 - val_loss: 4.9732 - val_acc: 0.4393\n",
      "Epoch 5/50\n",
      "9555/9555 [==============================] - 125s 13ms/step - loss: 0.1919 - acc: 0.9421 - val_loss: 3.1357 - val_acc: 0.6218\n",
      "Epoch 6/50\n",
      "9555/9555 [==============================] - 125s 13ms/step - loss: 0.2572 - acc: 0.9184 - val_loss: 7.7090 - val_acc: 0.4440\n",
      "Epoch 7/50\n",
      "9555/9555 [==============================] - 125s 13ms/step - loss: 0.1164 - acc: 0.9646 - val_loss: 1.3423 - val_acc: 0.7104\n",
      "Epoch 8/50\n",
      "9555/9555 [==============================] - 125s 13ms/step - loss: 0.0551 - acc: 0.9813 - val_loss: 1.5944 - val_acc: 0.7780\n",
      "Epoch 9/50\n",
      "9555/9555 [==============================] - 125s 13ms/step - loss: 0.0392 - acc: 0.9882 - val_loss: 0.5573 - val_acc: 0.8914\n",
      "Epoch 10/50\n",
      "9555/9555 [==============================] - 125s 13ms/step - loss: 0.0760 - acc: 0.9775 - val_loss: 0.1458 - val_acc: 0.9571\n",
      "Epoch 11/50\n",
      "9555/9555 [==============================] - 125s 13ms/step - loss: 0.0162 - acc: 0.9947 - val_loss: 0.0856 - val_acc: 0.9720\n",
      "Epoch 12/50\n",
      "9555/9555 [==============================] - 125s 13ms/step - loss: 0.0191 - acc: 0.9929 - val_loss: 0.9737 - val_acc: 0.8407\n",
      "Epoch 13/50\n",
      "9555/9555 [==============================] - 125s 13ms/step - loss: 0.0345 - acc: 0.9890 - val_loss: 8.0036 - val_acc: 0.3864\n",
      "Epoch 14/50\n",
      "9555/9555 [==============================] - 125s 13ms/step - loss: 0.0192 - acc: 0.9939 - val_loss: 2.9759 - val_acc: 0.6964\n",
      "Epoch 15/50\n",
      "9555/9555 [==============================] - 125s 13ms/step - loss: 0.0203 - acc: 0.9936 - val_loss: 0.2374 - val_acc: 0.9144\n",
      "Epoch 16/50\n",
      "9555/9555 [==============================] - 125s 13ms/step - loss: 0.0140 - acc: 0.9955 - val_loss: 0.0236 - val_acc: 0.9921\n",
      "Epoch 17/50\n",
      "9555/9555 [==============================] - 125s 13ms/step - loss: 0.0248 - acc: 0.9926 - val_loss: 0.0970 - val_acc: 0.9700\n",
      "Epoch 18/50\n",
      "9555/9555 [==============================] - 125s 13ms/step - loss: 0.0260 - acc: 0.9933 - val_loss: 0.0387 - val_acc: 0.9858\n",
      "Epoch 19/50\n",
      "9555/9555 [==============================] - 125s 13ms/step - loss: 0.0073 - acc: 0.9981 - val_loss: 0.2965 - val_acc: 0.9488\n",
      "Epoch 20/50\n",
      "9555/9555 [==============================] - 125s 13ms/step - loss: 0.0056 - acc: 0.9985 - val_loss: 0.0100 - val_acc: 0.9983\n",
      "Epoch 21/50\n",
      "9555/9555 [==============================] - 126s 13ms/step - loss: 0.0225 - acc: 0.9930 - val_loss: 0.3935 - val_acc: 0.9346\n",
      "Epoch 22/50\n",
      "9555/9555 [==============================] - 125s 13ms/step - loss: 0.0206 - acc: 0.9936 - val_loss: 0.0726 - val_acc: 0.9775\n",
      "Epoch 23/50\n",
      "9555/9555 [==============================] - 125s 13ms/step - loss: 0.1431 - acc: 0.9815 - val_loss: 9.9758 - val_acc: 0.3259\n",
      "Epoch 24/50\n",
      "9555/9555 [==============================] - 125s 13ms/step - loss: 0.1647 - acc: 0.9634 - val_loss: 8.4715 - val_acc: 0.3990\n",
      "Epoch 25/50\n",
      "9555/9555 [==============================] - 125s 13ms/step - loss: 0.0202 - acc: 0.9948 - val_loss: 1.5979 - val_acc: 0.8385\n",
      "Epoch 26/50\n",
      "9555/9555 [==============================] - 125s 13ms/step - loss: 0.0414 - acc: 0.9911 - val_loss: 3.2581 - val_acc: 0.6155\n",
      "Epoch 27/50\n",
      "9555/9555 [==============================] - 125s 13ms/step - loss: 0.0538 - acc: 0.9881 - val_loss: 0.0922 - val_acc: 0.9785\n",
      "Epoch 28/50\n",
      "9555/9555 [==============================] - 125s 13ms/step - loss: 0.0384 - acc: 0.9902 - val_loss: 0.0609 - val_acc: 0.9843\n",
      "Epoch 29/50\n",
      "9555/9555 [==============================] - 125s 13ms/step - loss: 0.0127 - acc: 0.9967 - val_loss: 0.1406 - val_acc: 0.9575\n",
      "Epoch 30/50\n",
      "9555/9555 [==============================] - 125s 13ms/step - loss: 0.0073 - acc: 0.9984 - val_loss: 0.0156 - val_acc: 0.9955\n",
      "Epoch 31/50\n",
      "9555/9555 [==============================] - 125s 13ms/step - loss: 0.0146 - acc: 0.9974 - val_loss: 0.0639 - val_acc: 0.9828\n",
      "Epoch 32/50\n",
      "9555/9555 [==============================] - 125s 13ms/step - loss: 0.0117 - acc: 0.9981 - val_loss: 0.0227 - val_acc: 0.9945\n",
      "Epoch 33/50\n",
      "9555/9555 [==============================] - 126s 13ms/step - loss: 0.0037 - acc: 0.9997 - val_loss: 0.0063 - val_acc: 0.9987\n",
      "Epoch 34/50\n",
      "9555/9555 [==============================] - 126s 13ms/step - loss: 0.1791 - acc: 0.9782 - val_loss: 10.4254 - val_acc: 0.3021\n",
      "Epoch 35/50\n",
      "9555/9555 [==============================] - 125s 13ms/step - loss: 0.2669 - acc: 0.9648 - val_loss: 7.3128 - val_acc: 0.4852\n",
      "Epoch 36/50\n",
      "9555/9555 [==============================] - 125s 13ms/step - loss: 0.1148 - acc: 0.9796 - val_loss: 0.8473 - val_acc: 0.9208\n",
      "Epoch 37/50\n",
      "9555/9555 [==============================] - 125s 13ms/step - loss: 1.4204 - acc: 0.8924 - val_loss: 6.6044 - val_acc: 0.4470\n",
      "Epoch 38/50\n",
      "9555/9555 [==============================] - 126s 13ms/step - loss: 1.2254 - acc: 0.8976 - val_loss: 3.1611 - val_acc: 0.6320\n",
      "Epoch 39/50\n",
      "9555/9555 [==============================] - 126s 13ms/step - loss: 0.0473 - acc: 0.9909 - val_loss: 0.1354 - val_acc: 0.9688\n",
      "Epoch 40/50\n",
      "9555/9555 [==============================] - 125s 13ms/step - loss: 0.0322 - acc: 0.9926 - val_loss: 0.2696 - val_acc: 0.9441\n",
      "Epoch 41/50\n",
      "9555/9555 [==============================] - 125s 13ms/step - loss: 0.0137 - acc: 0.9964 - val_loss: 0.0064 - val_acc: 0.9981\n",
      "Epoch 42/50\n",
      "9555/9555 [==============================] - 125s 13ms/step - loss: 0.0104 - acc: 0.9979 - val_loss: 0.0425 - val_acc: 0.9930\n",
      "Epoch 43/50\n",
      "9555/9555 [==============================] - 125s 13ms/step - loss: 0.0045 - acc: 0.9990 - val_loss: 8.9128e-04 - val_acc: 0.9996\n",
      "Epoch 44/50\n",
      "9555/9555 [==============================] - 125s 13ms/step - loss: 0.0055 - acc: 0.9983 - val_loss: 0.0479 - val_acc: 0.9879\n",
      "Epoch 45/50\n",
      "9555/9555 [==============================] - 125s 13ms/step - loss: 9.3759e-04 - acc: 0.9996 - val_loss: 0.0020 - val_acc: 0.9996\n",
      "Epoch 46/50\n",
      "9555/9555 [==============================] - 125s 13ms/step - loss: 0.0011 - acc: 0.9996 - val_loss: 0.0018 - val_acc: 0.9994\n",
      "Epoch 47/50\n",
      "9555/9555 [==============================] - 125s 13ms/step - loss: 6.0549e-04 - acc: 0.9998 - val_loss: 0.0026 - val_acc: 0.9992\n",
      "Epoch 48/50\n",
      "9555/9555 [==============================] - 126s 13ms/step - loss: 0.0035 - acc: 0.9987 - val_loss: 0.0044 - val_acc: 0.9983\n",
      "Epoch 49/50\n",
      "9555/9555 [==============================] - 125s 13ms/step - loss: 0.0068 - acc: 0.9985 - val_loss: 0.0224 - val_acc: 0.9936\n",
      "Epoch 50/50\n",
      "9555/9555 [==============================] - 125s 13ms/step - loss: 0.0059 - acc: 0.9982 - val_loss: 0.0043 - val_acc: 0.9992\n"
     ]
    },
    {
     "data": {
      "text/plain": [
       "<keras.callbacks.History at 0x7ff317c4a1d0>"
      ]
     },
     "execution_count": 24,
     "metadata": {
      "tags": []
     },
     "output_type": "execute_result"
    }
   ],
   "source": [
    "model.fit(X_train,y_train,batch_size=128,epochs=50,validation_split=0.33)"
   ]
  },
  {
   "cell_type": "markdown",
   "metadata": {},
   "source": [
    "#### Evaluasi Model"
   ]
  },
  {
   "cell_type": "code",
   "execution_count": 0,
   "metadata": {
    "colab": {
     "base_uri": "https://localhost:8080/",
     "height": 56
    },
    "colab_type": "code",
    "id": "frHKJAdiv5zd",
    "outputId": "edd3727b-249e-47c1-f35d-3bee6f1a5c57"
   },
   "outputs": [
    {
     "name": "stdout",
     "output_type": "stream",
     "text": [
      "Test Loss: 0.004445125331732789\n",
      "Test Accuracy: 0.999288256227758\n"
     ]
    }
   ],
   "source": [
    "# Evaluating the model on the test data    \n",
    "loss, accuracy = model.evaluate(X_test, y_test, verbose=0)\n",
    "print('Test Loss:', loss)\n",
    "print('Test Accuracy:', accuracy)"
   ]
  },
  {
   "cell_type": "markdown",
   "metadata": {
    "colab": {},
    "colab_type": "code",
    "id": "Q4m0YKq4JcCX"
   },
   "source": [
    "### Hasil Pengenalan"
   ]
  },
  {
   "cell_type": "markdown",
   "metadata": {},
   "source": [
    "Berikut ini adalah contoh hasil pengenalan"
   ]
  },
  {
   "cell_type": "markdown",
   "metadata": {},
   "source": [
    "### Analisis dengan Assignment 3\n",
    "Pada assignment 3, akurasi 99% dihasilkan oleh deksriptor bentuk. Dan pada model VGGnet tersebut, hasil yang dihasilkan adalah 99% juga dengan loss yang kecil, yaitu 0.0044. Hal tersebut menunjukkan bahwa deskriptor bentuk dan model VGGnet sama-sama menghasilkan hasil yang bagus. Namun, mungkin data yang diperlukan harus lebih beragam agar tidak terjadi overfitting."
   ]
  },
  {
   "cell_type": "code",
   "execution_count": null,
   "metadata": {},
   "outputs": [],
   "source": []
  }
 ],
 "metadata": {
  "accelerator": "GPU",
  "colab": {
   "name": "VGGnet CNN.ipynb",
   "provenance": [],
   "version": "0.3.2"
  },
  "kernelspec": {
   "display_name": "Python 3",
   "language": "python",
   "name": "python3"
  },
  "language_info": {
   "codemirror_mode": {
    "name": "ipython",
    "version": 3
   },
   "file_extension": ".py",
   "mimetype": "text/x-python",
   "name": "python",
   "nbconvert_exporter": "python",
   "pygments_lexer": "ipython3",
   "version": "3.6.7"
  }
 },
 "nbformat": 4,
 "nbformat_minor": 1
}
